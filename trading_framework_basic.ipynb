{
  "nbformat": 4,
  "nbformat_minor": 0,
  "metadata": {
    "colab": {
      "name": "trading framework basic",
      "provenance": [],
      "authorship_tag": "ABX9TyOw52Tr9f9R6Spc16kNDcR1",
      "include_colab_link": true
    },
    "kernelspec": {
      "name": "python3",
      "display_name": "Python 3"
    }
  },
  "cells": [
    {
      "cell_type": "markdown",
      "metadata": {
        "id": "view-in-github",
        "colab_type": "text"
      },
      "source": [
        "<a href=\"https://colab.research.google.com/github/karumanchi/project2020/blob/master/trading_framework_basic.ipynb\" target=\"_parent\"><img src=\"https://colab.research.google.com/assets/colab-badge.svg\" alt=\"Open In Colab\"/></a>"
      ]
    },
    {
      "cell_type": "code",
      "metadata": {
        "id": "OM9OIrv39Pvg",
        "colab_type": "code",
        "colab": {
          "base_uri": "https://localhost:8080/",
          "height": 615
        },
        "outputId": "526e5c6f-419c-48de-abb4-ebc52d29a681"
      },
      "source": [
        "! pip install yfinance\n",
        "! pip install ta"
      ],
      "execution_count": null,
      "outputs": [
        {
          "output_type": "stream",
          "text": [
            "Collecting yfinance\n",
            "  Downloading https://files.pythonhosted.org/packages/c2/31/8b374a12b90def92a4e27d0fc595fc43635f395984e36a075244d98bd265/yfinance-0.1.54.tar.gz\n",
            "Requirement already satisfied: pandas>=0.24 in /usr/local/lib/python3.6/dist-packages (from yfinance) (1.0.5)\n",
            "Requirement already satisfied: numpy>=1.15 in /usr/local/lib/python3.6/dist-packages (from yfinance) (1.18.5)\n",
            "Requirement already satisfied: requests>=2.20 in /usr/local/lib/python3.6/dist-packages (from yfinance) (2.23.0)\n",
            "Requirement already satisfied: multitasking>=0.0.7 in /usr/local/lib/python3.6/dist-packages (from yfinance) (0.0.9)\n",
            "Requirement already satisfied: python-dateutil>=2.6.1 in /usr/local/lib/python3.6/dist-packages (from pandas>=0.24->yfinance) (2.8.1)\n",
            "Requirement already satisfied: pytz>=2017.2 in /usr/local/lib/python3.6/dist-packages (from pandas>=0.24->yfinance) (2018.9)\n",
            "Requirement already satisfied: certifi>=2017.4.17 in /usr/local/lib/python3.6/dist-packages (from requests>=2.20->yfinance) (2020.6.20)\n",
            "Requirement already satisfied: urllib3!=1.25.0,!=1.25.1,<1.26,>=1.21.1 in /usr/local/lib/python3.6/dist-packages (from requests>=2.20->yfinance) (1.24.3)\n",
            "Requirement already satisfied: idna<3,>=2.5 in /usr/local/lib/python3.6/dist-packages (from requests>=2.20->yfinance) (2.10)\n",
            "Requirement already satisfied: chardet<4,>=3.0.2 in /usr/local/lib/python3.6/dist-packages (from requests>=2.20->yfinance) (3.0.4)\n",
            "Requirement already satisfied: six>=1.5 in /usr/local/lib/python3.6/dist-packages (from python-dateutil>=2.6.1->pandas>=0.24->yfinance) (1.12.0)\n",
            "Building wheels for collected packages: yfinance\n",
            "  Building wheel for yfinance (setup.py) ... \u001b[?25l\u001b[?25hdone\n",
            "  Created wheel for yfinance: filename=yfinance-0.1.54-py2.py3-none-any.whl size=22409 sha256=0e7af5949272ef0135592fa9279c32694536dbead6b400779cfdeb312673f392\n",
            "  Stored in directory: /root/.cache/pip/wheels/f9/e3/5b/ec24dd2984b12d61e0abf26289746c2436a0e7844f26f2515c\n",
            "Successfully built yfinance\n",
            "Installing collected packages: yfinance\n",
            "Successfully installed yfinance-0.1.54\n",
            "Collecting ta\n",
            "  Downloading https://files.pythonhosted.org/packages/90/ec/e4f5aea8c7f0f55f92b52ffbafa389ea82f3a10d9cab2760e40af34c5b3f/ta-0.5.25.tar.gz\n",
            "Requirement already satisfied: numpy in /usr/local/lib/python3.6/dist-packages (from ta) (1.18.5)\n",
            "Requirement already satisfied: pandas in /usr/local/lib/python3.6/dist-packages (from ta) (1.0.5)\n",
            "Requirement already satisfied: pytz>=2017.2 in /usr/local/lib/python3.6/dist-packages (from pandas->ta) (2018.9)\n",
            "Requirement already satisfied: python-dateutil>=2.6.1 in /usr/local/lib/python3.6/dist-packages (from pandas->ta) (2.8.1)\n",
            "Requirement already satisfied: six>=1.5 in /usr/local/lib/python3.6/dist-packages (from python-dateutil>=2.6.1->pandas->ta) (1.12.0)\n",
            "Building wheels for collected packages: ta\n",
            "  Building wheel for ta (setup.py) ... \u001b[?25l\u001b[?25hdone\n",
            "  Created wheel for ta: filename=ta-0.5.25-cp36-none-any.whl size=24880 sha256=848c196398885acf2d3010c0c62cca462942077ad07476728237545f9fbbc7e7\n",
            "  Stored in directory: /root/.cache/pip/wheels/2e/93/b7/cf649194508e53cee4145ffb949e9f26877a5a8dd12db9ed5b\n",
            "Successfully built ta\n",
            "Installing collected packages: ta\n",
            "Successfully installed ta-0.5.25\n"
          ],
          "name": "stdout"
        }
      ]
    },
    {
      "cell_type": "code",
      "metadata": {
        "id": "GH2l8NRj9hXl",
        "colab_type": "code",
        "colab": {}
      },
      "source": [
        "import yfinance as yf\n",
        "import ta\n",
        "import pandas as pd\n",
        "from datetime import timedelta, date, datetime\n"
      ],
      "execution_count": null,
      "outputs": []
    },
    {
      "cell_type": "code",
      "metadata": {
        "id": "kdnw_GjL93aU",
        "colab_type": "code",
        "colab": {}
      },
      "source": [
        "ticker = 'TSLA' #'ISF.L'\n",
        "start_date = '2019-01-01'\n",
        "end_date = '2020-07-20'\n",
        "date_fmt = '%Y-%m-%d'"
      ],
      "execution_count": null,
      "outputs": []
    },
    {
      "cell_type": "code",
      "metadata": {
        "id": "FmnDj0_l-L3L",
        "colab_type": "code",
        "colab": {
          "base_uri": "https://localhost:8080/",
          "height": 437
        },
        "outputId": "313759c2-e344-4558-c6f1-c245e6051e3b"
      },
      "source": [
        "start_date_buffer = datetime.strptime(start_date,date_fmt) - timedelta(days = 365)\n",
        "start_date_buffer = start_date_buffer.strftime(date_fmt)\n",
        "\n",
        "###\n",
        "df = yf.download(ticker, start = start_date_buffer, end_date = end_date)\n",
        "df.head()\n",
        "\n",
        "##\n",
        "k_band = ta.volatility.KeltnerChannel(df.High, df.Low, df.Close, 10,10)\n",
        "df['K_BAND_UB'] = k_band.keltner_channel_hband().round(4)\n",
        "df['K_BAND_LB'] = k_band.keltner_channel_lband().round(4)\n",
        "df[['K_BAND_UB','K_BAND_LB']].dropna().head()\n",
        "\n",
        "##\n",
        "df['CLOSE_PREV'] = df.Close.shift(1)\n",
        "df['LONG'] = (df.Close <= df.K_BAND_LB) & (df.CLOSE_PREV > df.K_BAND_LB)\n",
        "df['EXIT_LONG'] = (df.Close >= df.K_BAND_UB) & (df.CLOSE_PREV < df.K_BAND_UB)\n",
        "\n",
        "df['SHORT'] = (df.Close >= df.K_BAND_UB) & (df.CLOSE_PREV < df.K_BAND_UB) \n",
        "df['EXIT_SHORT'] = (df.Close <= df.K_BAND_LB) & (df.CLOSE_PREV > df.K_BAND_LB)\n",
        "\n",
        "##\n",
        "df.LONG = df.LONG.shift(1)\n",
        "df.EXIT_LONG = df.EXIT_LONG.shift(1)\n",
        "df.SHORT = df.SHORT.shift(1)\n",
        "df.EXIT_SHORT = df.EXIT_SHORT.shift(1)\n",
        "df[['LONG', 'EXIT_LONG', 'SHORT','EXIT_SHORT']].dropna().head()\n",
        "\n",
        "##\n",
        "bt_df = df[(df.index >= start_date) & (df.index <=end_date)]\n",
        "bt_df.head()\n",
        "\n",
        "##\n",
        "balance = 1000000\n",
        "pnl = 0\n",
        "position = 0\n",
        "\n",
        "last_signal = 'hold'\n",
        "last_price = 0\n",
        "c =0\n",
        "\n",
        "trade_date_start = []\n",
        "trade_date_end = []\n",
        "trade_days = []\n",
        "trade_side = []\n",
        "trade_pnl=[]\n",
        "trade_ret=[]\n",
        "cum_value = []\n",
        "\n",
        "\n",
        "for index, row in bt_df.iterrows():\n",
        "  #chk and close position\n",
        "  if row.EXIT_LONG and last_signal == 'long':\n",
        "    trade_date_end.append(row.name)\n",
        "    trade_days.append(c)\n",
        "    pnl = (row.Open - last_price)*position\n",
        "    trade_pnl.append(pnl)\n",
        "    trade_ret.append((row.Open/last_price -1)*100)\n",
        "    balance += row.Open *position\n",
        "    position = 0\n",
        "    last_signal = 'hold'\n",
        "    c =0\n",
        "\n",
        "  elif row.EXIT_SHORT and last_signal == 'short':\n",
        "    trade_date_end.append(row.name)\n",
        "    trade_days.append(c)\n",
        "    pnl = (row.Open - last_price)*position\n",
        "    trade_pnl.append(pnl)\n",
        "    trade_ret.append((last_price/row.Open -1)*100)\n",
        "    balance += pnl\n",
        "    position = 0\n",
        "    last_signal = 'hold'\n",
        "    c =0\n",
        "\n",
        "  #chk signal and enter poss postn\n",
        "  if row.LONG and last_signal != 'long':\n",
        "    last_signal = 'long'\n",
        "    last_price = row.Open\n",
        "    trade_date_start.append(row.name)\n",
        "    trade_side.append('long')\n",
        "    position = int(balance / row.Open)\n",
        "    cost = position * row.Open\n",
        "    balance = balance - cost\n",
        "    c=0\n",
        "\n",
        "  elif row.SHORT and last_signal != 'short':\n",
        "    last_signal = 'short'\n",
        "    last_price = row.Open\n",
        "    trade_date_start.append(row.name)\n",
        "    trade_side.append('short')\n",
        "    position = int(balance / row.Open)*-1\n",
        "    c=0\n",
        "\n",
        "  # Compute mkt value and count days for any poss position\n",
        "  if last_signal == 'hold':\n",
        "    market_value = balance\n",
        "  elif last_signal == 'long':\n",
        "    c = c+1\n",
        "    market_value = position *row.Close + balance\n",
        "  else:\n",
        "    c = c+1\n",
        "    market_value = (row.Close - last_price)*position + balance\n",
        "  cum_value.append(market_value)\n",
        "\n",
        "##\n",
        "cum_ret_df = pd.DataFrame(cum_value, index = bt_df.index, columns = ['CUM_RET'])\n",
        "cum_ret_df['CUM_RET'] = (cum_ret_df.CUM_RET/1000000 -1)*100\n",
        "cum_ret_df['BUY_HOLD'] = (bt_df.Close/ bt_df.Open.iloc[0] -1)*100\n",
        "cum_ret_df['ZERO'] =0\n",
        "cum_ret_df.plot(figsize=(15,5))\n",
        "cum_ret_df.iloc[[-1]].round(2)\n",
        "\n"
      ],
      "execution_count": null,
      "outputs": [
        {
          "output_type": "stream",
          "text": [
            "\r[*********************100%***********************]  1 of 1 completed\n"
          ],
          "name": "stdout"
        },
        {
          "output_type": "execute_result",
          "data": {
            "text/html": [
              "<div>\n",
              "<style scoped>\n",
              "    .dataframe tbody tr th:only-of-type {\n",
              "        vertical-align: middle;\n",
              "    }\n",
              "\n",
              "    .dataframe tbody tr th {\n",
              "        vertical-align: top;\n",
              "    }\n",
              "\n",
              "    .dataframe thead th {\n",
              "        text-align: right;\n",
              "    }\n",
              "</style>\n",
              "<table border=\"1\" class=\"dataframe\">\n",
              "  <thead>\n",
              "    <tr style=\"text-align: right;\">\n",
              "      <th></th>\n",
              "      <th>CUM_RET</th>\n",
              "      <th>BUY_HOLD</th>\n",
              "      <th>ZERO</th>\n",
              "    </tr>\n",
              "    <tr>\n",
              "      <th>Date</th>\n",
              "      <th></th>\n",
              "      <th></th>\n",
              "      <th></th>\n",
              "    </tr>\n",
              "  </thead>\n",
              "  <tbody>\n",
              "    <tr>\n",
              "      <th>2020-07-20</th>\n",
              "      <td>-96.81</td>\n",
              "      <td>431.5</td>\n",
              "      <td>0</td>\n",
              "    </tr>\n",
              "  </tbody>\n",
              "</table>\n",
              "</div>"
            ],
            "text/plain": [
              "            CUM_RET  BUY_HOLD  ZERO\n",
              "Date                               \n",
              "2020-07-20   -96.81     431.5     0"
            ]
          },
          "metadata": {
            "tags": []
          },
          "execution_count": 17
        },
        {
          "output_type": "display_data",
          "data": {
            "image/png": "[encoded data removed]",
            "text/plain": [
              "<Figure size 1080x360 with 1 Axes>"
            ]
          },
          "metadata": {
            "tags": [],
            "needs_background": "light"
          }
        }
      ]
    },
    {
      "cell_type": "code",
      "metadata": {
        "id": "CVt6FcadhBiL",
        "colab_type": "code",
        "colab": {}
      },
      "source": [
        ""
      ],
      "execution_count": null,
      "outputs": []
    }
  ]
}